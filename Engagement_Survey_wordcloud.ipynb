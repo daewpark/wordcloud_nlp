{
  "nbformat": 4,
  "nbformat_minor": 0,
  "metadata": {
    "kernelspec": {
      "display_name": "Python 3",
      "language": "python",
      "name": "python3"
    },
    "language_info": {
      "codemirror_mode": {
        "name": "ipython",
        "version": 3
      },
      "file_extension": ".py",
      "mimetype": "text/x-python",
      "name": "python",
      "nbconvert_exporter": "python",
      "pygments_lexer": "ipython3",
      "version": "3.7.0"
    },
    "colab": {
      "name": "Engagement_Survey_wordcloud",
      "provenance": [],
      "include_colab_link": true
    }
  },
  "cells": [
    {
      "cell_type": "markdown",
      "metadata": {
        "id": "view-in-github",
        "colab_type": "text"
      },
      "source": [
        "<a href=\"https://colab.research.google.com/github/daewpark/wordcloud_nlp/blob/master/Engagement_Survey_wordcloud.ipynb\" target=\"_parent\"><img src=\"https://colab.research.google.com/assets/colab-badge.svg\" alt=\"Open In Colab\"/></a>"
      ]
    },
    {
      "cell_type": "code",
      "metadata": {
        "id": "z6EcVGOabDLZ"
      },
      "source": [
        "import pandas as pd\n",
        "import numpy as np\n",
        "import re"
      ],
      "execution_count": null,
      "outputs": []
    },
    {
      "cell_type": "code",
      "metadata": {
        "id": "ryGlyOTY56L5"
      },
      "source": [
        "#soynlp 를 설치합니다.\n",
        "pip install soynlp"
      ],
      "execution_count": null,
      "outputs": []
    },
    {
      "cell_type": "code",
      "metadata": {
        "id": "Z6oLsm6TbDLc"
      },
      "source": [
        "#soynlp 를 설치 후 라이브러리를 호출하고 버전을 확인합니다.\n",
        "import soynlp\n",
        "print (soynlp.__version__)"
      ],
      "execution_count": null,
      "outputs": []
    },
    {
      "cell_type": "code",
      "metadata": {
        "id": "MbTAljSzd9VH"
      },
      "source": [
        "from google.colab import drive\n",
        "drive.mount('/content/drive')"
      ],
      "execution_count": null,
      "outputs": []
    },
    {
      "cell_type": "code",
      "metadata": {
        "id": "oG8bobB6bDLh"
      },
      "source": [
        "df = pd.read_csv('/content/drive/My Drive/Colab Notebooks/data/glint_comments_2020H1.csv')"
      ],
      "execution_count": null,
      "outputs": []
    },
    {
      "cell_type": "code",
      "metadata": {
        "id": "h8wtSENsbDLk"
      },
      "source": [
        "df.shape"
      ],
      "execution_count": null,
      "outputs": []
    },
    {
      "cell_type": "code",
      "metadata": {
        "scrolled": true,
        "id": "Td1hDsPPbDLn"
      },
      "source": [
        "df.head (3)"
      ],
      "execution_count": null,
      "outputs": []
    },
    {
      "cell_type": "code",
      "metadata": {
        "id": "tfvK-KK25TLo"
      },
      "source": [
        "df.describe()"
      ],
      "execution_count": null,
      "outputs": []
    },
    {
      "cell_type": "code",
      "metadata": {
        "id": "Z5xS1bWWYk1B"
      },
      "source": [
        "df.info()"
      ],
      "execution_count": null,
      "outputs": []
    },
    {
      "cell_type": "code",
      "metadata": {
        "id": "jLb13qQSbDLr"
      },
      "source": [
        "from soynlp.tokenizer import RegexTokenizer\n",
        "tokenizer = RegexTokenizer()\n",
        "tokenizer"
      ],
      "execution_count": null,
      "outputs": []
    },
    {
      "cell_type": "code",
      "metadata": {
        "id": "jm9tZL-jbDLt"
      },
      "source": [
        "# 샘플로 보고 싶은 인덱스의 번호를 넣어주세요.\n",
        "sample_index = 10"
      ],
      "execution_count": null,
      "outputs": []
    },
    {
      "cell_type": "code",
      "metadata": {
        "id": "7NEj9jDBbDLw"
      },
      "source": [
        "sample_answer = df['Answer'][sample_index]\n",
        "sample_answer"
      ],
      "execution_count": null,
      "outputs": []
    },
    {
      "cell_type": "code",
      "metadata": {
        "scrolled": true,
        "id": "2Ag5ZnLKbDLy"
      },
      "source": [
        "tokened_answer = tokenizer.tokenize (sample_answer)\n",
        "tokened_answer"
      ],
      "execution_count": null,
      "outputs": []
    },
    {
      "cell_type": "code",
      "metadata": {
        "scrolled": true,
        "id": "m2Eoc7UgbDL0"
      },
      "source": [
        "print(len(tokened_answer))"
      ],
      "execution_count": null,
      "outputs": []
    },
    {
      "cell_type": "code",
      "metadata": {
        "id": "CKTc0x4XbDL1"
      },
      "source": [
        "# 개행문자 제거\n",
        "def preprocessing(text):\n",
        "    text = re.sub('\\\\\\\\n', ' ', ' . ', text)\n",
        "    return text"
      ],
      "execution_count": null,
      "outputs": []
    },
    {
      "cell_type": "code",
      "metadata": {
        "id": "yCQpUUZUbDL4"
      },
      "source": [
        "sentences = df['Answer'].apply(preprocessing)"
      ],
      "execution_count": null,
      "outputs": []
    },
    {
      "cell_type": "code",
      "metadata": {
        "id": "3Wsan4R1bDL6"
      },
      "source": [
        "tokens = sentences.apply(tokenizer.tokenize)\n",
        "tokens[:3]"
      ],
      "execution_count": null,
      "outputs": []
    },
    {
      "cell_type": "code",
      "metadata": {
        "id": "mb9TnOJcbDL8"
      },
      "source": [
        "tokens[sample_index][:3]"
      ],
      "execution_count": null,
      "outputs": []
    },
    {
      "cell_type": "code",
      "metadata": {
        "id": "VNNeOXTvbDL-"
      },
      "source": [
        "#제외단어\n",
        "stopwords_kr = ['하지만', '그리고', '그런데', '저는','제가',\n",
        "                '그럼', '이런', '저런', '합니다',\n",
        "                '많은', '많이', '정말', '너무']"
      ],
      "execution_count": null,
      "outputs": []
    },
    {
      "cell_type": "code",
      "metadata": {
        "id": "MxpEfu8ybDL_"
      },
      "source": [
        "from wordcloud import WordCloud\n",
        "import matplotlib.pyplot as plt\n",
        "%matplotlib inline\n",
        "\n",
        "def displayWordCloud(data = None, backgroundcolor = 'white', width=800, height=600 ):\n",
        "    wordcloud = WordCloud(\n",
        "                        #font_path = 'C:/Windows/Fonts/NotoSansCJKkr-Medium.otf',\n",
        "                        stopwords = stopwords_kr,\n",
        "                        background_color = backgroundcolor, \n",
        "                        width = width, \n",
        "                        height = height).generate(data)\n",
        "    plt.figure(figsize = (15 , 10))\n",
        "    plt.imshow(wordcloud)\n",
        "    plt.axis(\"off\")\n",
        "    plt.show()"
      ],
      "execution_count": null,
      "outputs": []
    },
    {
      "cell_type": "code",
      "metadata": {
        "id": "VcDQTXaabDMC"
      },
      "source": [
        "%time displayWordCloud(' '.join(sentences))"
      ],
      "execution_count": null,
      "outputs": []
    },
    {
      "cell_type": "code",
      "metadata": {
        "id": "kWEObxtJbDME"
      },
      "source": [
        "from soynlp.noun import LRNounExtractor_v2"
      ],
      "execution_count": null,
      "outputs": []
    },
    {
      "cell_type": "code",
      "metadata": {
        "id": "ZOXsW9zcbDMF"
      },
      "source": [
        "noun_extractor = LRNounExtractor_v2(verbose=True)\n",
        "noun_extractor.train(sentences)\n",
        "nouns = noun_extractor.extract()"
      ],
      "execution_count": null,
      "outputs": []
    },
    {
      "cell_type": "code",
      "metadata": {
        "scrolled": true,
        "id": "2vpyMIhhbDMJ"
      },
      "source": [
        "%time displayWordCloud(' '.join(nouns))"
      ],
      "execution_count": null,
      "outputs": []
    },
    {
      "cell_type": "code",
      "metadata": {
        "id": "8vDHtg0-bDMP"
      },
      "source": [
        "nouns"
      ],
      "execution_count": null,
      "outputs": []
    }
  ]
}